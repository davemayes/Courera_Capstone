{
 "cells": [
  {
   "cell_type": "markdown",
   "metadata": {
    "collapsed": true
   },
   "source": [
    "This is a notebook which will be used for my capstone project"
   ]
  },
  {
   "cell_type": "code",
   "execution_count": 1,
   "metadata": {},
   "outputs": [],
   "source": [
    "import pandas as pd\n",
    "import numpy as np"
   ]
  },
  {
   "cell_type": "code",
   "execution_count": 2,
   "metadata": {},
   "outputs": [
    {
     "name": "stdout",
     "output_type": "stream",
     "text": [
      "Hello Capstone Project Course!!!!!!!\n"
     ]
    }
   ],
   "source": [
    "print(\"Hello Capstone Project Course!!!!!!!\")"
   ]
  },
  {
   "cell_type": "markdown",
   "metadata": {},
   "source": [
    "Introduction:\n",
    "\n",
    "Life School Phuket\n",
    "I own a small alternative international school in Phuket, Thailand. I am fitness and nature junky and an obsessed surfer. The school has just finished its 5th full year in operation. I started the school to provide an education to my own two boys first and foremost, and they are nearly to the point where they will finish the school and begin higher education online. The school was started with very little capital and provides a community environment for children who might otherwise be home-schooled or a cheaper alternative to very expensive international schools.\n",
    "\n",
    "The long term plan is to take my children on the road with me and start 4-5 new small schools in strategic locations that are similar to Phuket and have similar challenges for expat families. Rather than compare two cities or neighborhoods within a city, I will compare the neighborhoods of the top surfing spots in the world to attempt to identify the top choices to expand our school brand\n",
    "\n",
    "Data:\n",
    "\n",
    "The data I will use for this analysis will be a combination of a list of the top 50 surf spots in the world that was published in a CNN report in 2013. The link to the article is as follows: https://edition.cnn.com/travel/article/50-surf-spots/index.html \n",
    "\n",
    "I will also use venue data from Foursquare.\n",
    "\n",
    "Methodology:\n",
    "\n",
    "The first step of the analysis will be to web-scrape the CNN website with the article in a Jupyter notebook on IBM Watson and use Beautiful Soup to clean the data. It will then be transformed into a Pandas data frame . Once the data set of the top 50 surf spots is in a data frame format I will need to get the GPS coordinates of each and add them to the data frame.\n",
    "\n",
    "Finally I will use the Foursquare API to run a k-means clustering exercise to divide the locations into clusters. This will narrow down my selection to the cluster which includes Phuket and the potential next location will be chosen based on its closeness to Phuket."
   ]
  }
 ],
 "metadata": {
  "kernelspec": {
   "display_name": "Python 3.7",
   "language": "python",
   "name": "python3"
  },
  "language_info": {
   "codemirror_mode": {
    "name": "ipython",
    "version": 3
   },
   "file_extension": ".py",
   "mimetype": "text/x-python",
   "name": "python",
   "nbconvert_exporter": "python",
   "pygments_lexer": "ipython3",
   "version": "3.7.10"
  }
 },
 "nbformat": 4,
 "nbformat_minor": 1
}
