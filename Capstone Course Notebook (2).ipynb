{
 "cells": [
  {
   "cell_type": "markdown",
   "metadata": {
    "collapsed": true
   },
   "source": [
    "This is a notebook which will be used for my capstone project"
   ]
  },
  {
   "cell_type": "code",
   "execution_count": 1,
   "metadata": {},
   "outputs": [],
   "source": [
    "import pandas as pd\n",
    "import numpy as np"
   ]
  },
  {
   "cell_type": "code",
   "execution_count": 2,
   "metadata": {},
   "outputs": [
    {
     "name": "stdout",
     "output_type": "stream",
     "text": [
      "Hello Capstone Project Course!!!!!!!\n"
     ]
    }
   ],
   "source": [
    "print(\"Hello Capstone Project Course!!!!!!!\")"
   ]
  },
  {
   "cell_type": "markdown",
   "metadata": {},
   "source": [
    "Introduction:\n",
    "\n",
    "Life School Phuket\n",
    "I own a small alternative international school in Phuket, Thailand. I am fitness and nature junky and an obsessed surfer. The school has just finished its 5th full year in operation. I started the school to provide an education to my own two boys first and foremost, and they are nearly to the point where they will finish the school and begin higher education online. The school was started with very little capital and provides a community environment for children who might otherwise be home-schooled or a cheaper alternative to very expensive international schools.\n",
    "\n",
    "The long term plan is to take my children on the road with me and start 4-5 new small schools in strategic locations that are similar to Phuket and have similar challenges for expat families. Rather than compare two cities or neighborhoods within a city, I will compare the neighborhoods of the top surfing spots in the world to attempt to identify the top choices to expand our school brand\n",
    "\n",
    "Data:\n",
    "\n",
    "The data I will use for this analysis will be a combination of a list of the top 50 surf spots in the world that was published in a CNN report in 2013. The link to the article is as follows: https://edition.cnn.com/travel/article/50-surf-spots/index.html \n",
    "\n",
    "I will also use venue data from Foursquare.\n",
    "\n",
    "Methodology:\n",
    "\n",
    "The first step of the analysis will be to web-scrape the CNN website with the article in a Jupyter notebook on IBM Watson and use Beautiful Soup to clean the data. It will then be transformed into a Pandas data frame . Once the data set of the top 50 surf spots is in a data frame format I will need to get the GPS coordinates of each and add them to the data frame.\n",
    "\n",
    "Finally I will use the Foursquare API to run a k-means clustering exercise to divide the locations into clusters. This will narrow down my selection to the cluster which includes Phuket and the potential next location will be chosen based on its closeness to Phuket."
   ]
  },
  {
   "cell_type": "markdown",
   "metadata": {},
   "source": [
    "Before we get the data and start exploring it, let's download all the dependencies that we will need."
   ]
  },
  {
   "cell_type": "code",
   "execution_count": 1,
   "metadata": {},
   "outputs": [
    {
     "name": "stdout",
     "output_type": "stream",
     "text": [
      "Collecting package metadata (current_repodata.json): done\n",
      "Solving environment: done\n",
      "\n",
      "## Package Plan ##\n",
      "\n",
      "  environment location: /opt/conda/envs/Python-3.7-OpenCE\n",
      "\n",
      "  added / updated specs:\n",
      "    - geopy\n",
      "\n",
      "\n",
      "The following packages will be downloaded:\n",
      "\n",
      "    package                    |            build\n",
      "    ---------------------------|-----------------\n",
      "    certifi-2021.5.30          |   py37h89c1867_0         141 KB  conda-forge\n",
      "    geographiclib-1.52         |     pyhd8ed1ab_0          35 KB  conda-forge\n",
      "    geopy-2.2.0                |     pyhd8ed1ab_0          67 KB  conda-forge\n",
      "    openssl-1.1.1k             |       h7f98852_0         2.1 MB  conda-forge\n",
      "    python_abi-3.7             |          2_cp37m           4 KB  conda-forge\n",
      "    ------------------------------------------------------------\n",
      "                                           Total:         2.4 MB\n",
      "\n",
      "The following NEW packages will be INSTALLED:\n",
      "\n",
      "  geographiclib      conda-forge/noarch::geographiclib-1.52-pyhd8ed1ab_0\n",
      "  geopy              conda-forge/noarch::geopy-2.2.0-pyhd8ed1ab_0\n",
      "  python_abi         conda-forge/linux-64::python_abi-3.7-2_cp37m\n",
      "\n",
      "The following packages will be SUPERSEDED by a higher-priority channel:\n",
      "\n",
      "  certifi            pkgs/main::certifi-2021.5.30-py37h06a~ --> conda-forge::certifi-2021.5.30-py37h89c1867_0\n",
      "  openssl              pkgs/main::openssl-1.1.1k-h27cfd23_0 --> conda-forge::openssl-1.1.1k-h7f98852_0\n",
      "\n",
      "\n",
      "\n",
      "Downloading and Extracting Packages\n",
      "certifi-2021.5.30    | 141 KB    | ##################################### | 100% \n",
      "geographiclib-1.52   | 35 KB     | ##################################### | 100% \n",
      "geopy-2.2.0          | 67 KB     | ##################################### | 100% \n",
      "openssl-1.1.1k       | 2.1 MB    | ##################################### | 100% \n",
      "python_abi-3.7       | 4 KB      | ##################################### | 100% \n",
      "Preparing transaction: done\n",
      "Verifying transaction: done\n",
      "Executing transaction: done\n",
      "Collecting package metadata (current_repodata.json): done\n",
      "Solving environment: failed with initial frozen solve. Retrying with flexible solve.\n",
      "Collecting package metadata (repodata.json): done\n",
      "Solving environment: done\n",
      "\n",
      "## Package Plan ##\n",
      "\n",
      "  environment location: /opt/conda/envs/Python-3.7-OpenCE\n",
      "\n",
      "  added / updated specs:\n",
      "    - folium=0.5.0\n",
      "\n",
      "\n",
      "The following packages will be downloaded:\n",
      "\n",
      "    package                    |            build\n",
      "    ---------------------------|-----------------\n",
      "    altair-4.1.0               |             py_1         614 KB  conda-forge\n",
      "    branca-0.4.2               |     pyhd8ed1ab_0          26 KB  conda-forge\n",
      "    folium-0.5.0               |             py_0          45 KB  conda-forge\n",
      "    vincent-0.4.4              |             py_1          28 KB  conda-forge\n",
      "    widgetsnbextension-3.5.1   |   py37h89c1867_4         1.8 MB  conda-forge\n",
      "    ------------------------------------------------------------\n",
      "                                           Total:         2.5 MB\n",
      "\n",
      "The following NEW packages will be INSTALLED:\n",
      "\n",
      "  altair             conda-forge/noarch::altair-4.1.0-py_1\n",
      "  branca             conda-forge/noarch::branca-0.4.2-pyhd8ed1ab_0\n",
      "  folium             conda-forge/noarch::folium-0.5.0-py_0\n",
      "  vincent            conda-forge/noarch::vincent-0.4.4-py_1\n",
      "\n",
      "The following packages will be UPDATED:\n",
      "\n",
      "  widgetsnbextension pkgs/main::widgetsnbextension-3.5.1-p~ --> conda-forge::widgetsnbextension-3.5.1-py37h89c1867_4\n",
      "\n",
      "\n",
      "\n",
      "Downloading and Extracting Packages\n",
      "vincent-0.4.4        | 28 KB     | ##################################### | 100% \n",
      "folium-0.5.0         | 45 KB     | ##################################### | 100% \n",
      "altair-4.1.0         | 614 KB    | ##################################### | 100% \n",
      "widgetsnbextension-3 | 1.8 MB    | ##################################### | 100% \n",
      "branca-0.4.2         | 26 KB     | ##################################### | 100% \n",
      "Preparing transaction: done\n",
      "Verifying transaction: done\n",
      "Executing transaction: / Exception while loading config file /var/pod/.ws/ax-ext/config/wscloud/jupyter_notebook_config.py\n",
      "    Traceback (most recent call last):\n",
      "      File \"/opt/conda/envs/Python-3.7-OpenCE/lib/python3.7/site-packages/traitlets/config/application.py\", line 563, in _load_config_files\n",
      "        config = loader.load_config()\n",
      "      File \"/opt/conda/envs/Python-3.7-OpenCE/lib/python3.7/site-packages/traitlets/config/loader.py\", line 457, in load_config\n",
      "        self._read_file_as_dict()\n",
      "      File \"/opt/conda/envs/Python-3.7-OpenCE/lib/python3.7/site-packages/traitlets/config/loader.py\", line 489, in _read_file_as_dict\n",
      "        py3compat.execfile(conf_filename, namespace)\n",
      "      File \"/opt/conda/envs/Python-3.7-OpenCE/lib/python3.7/site-packages/ipython_genutils/py3compat.py\", line 198, in execfile\n",
      "        exec(compiler(f.read(), fname, 'exec'), glob, loc)\n",
      "      File \"/var/pod/.ws/ax-ext/config/wscloud/jupyter_notebook_config.py\", line 17, in <module>\n",
      "        from cdsax_jupyter_extensions.ax_log import ax_log_request\n",
      "    ModuleNotFoundError: No module named 'cdsax_jupyter_extensions'\n",
      "Enabling notebook extension jupyter-js-widgets/extension...\n",
      "      - Validating: \u001b[32mOK\u001b[0m\n",
      "\n",
      "done\n",
      "/opt/conda/envs/Python-3.7-OpenCE/lib/python3.7/site-packages/secretstorage/dhcrypto.py:16: CryptographyDeprecationWarning: int_from_bytes is deprecated, use int.from_bytes instead\n",
      "  from cryptography.utils import int_from_bytes\n",
      "/opt/conda/envs/Python-3.7-OpenCE/lib/python3.7/site-packages/secretstorage/util.py:25: CryptographyDeprecationWarning: int_from_bytes is deprecated, use int.from_bytes instead\n",
      "  from cryptography.utils import int_from_bytes\n",
      "Collecting bs4\n",
      "  Downloading bs4-0.0.1.tar.gz (1.1 kB)\n",
      "Requirement already satisfied: beautifulsoup4 in /opt/conda/envs/Python-3.7-OpenCE/lib/python3.7/site-packages (from bs4) (4.9.1)\n",
      "Requirement already satisfied: soupsieve>1.2 in /opt/conda/envs/Python-3.7-OpenCE/lib/python3.7/site-packages (from beautifulsoup4->bs4) (2.0.1)\n",
      "Building wheels for collected packages: bs4\n",
      "  Building wheel for bs4 (setup.py) ... \u001b[?25ldone\n",
      "\u001b[?25h  Created wheel for bs4: filename=bs4-0.0.1-py3-none-any.whl size=1273 sha256=ae9d2d892d26e387e20c2cd4271453e14bcfd86eb191ba8468be4d68892829a1\n",
      "  Stored in directory: /tmp/wsuser/.cache/pip/wheels/0a/9e/ba/20e5bbc1afef3a491f0b3bb74d508f99403aabe76eda2167ca\n",
      "Successfully built bs4\n",
      "Installing collected packages: bs4\n",
      "Successfully installed bs4-0.0.1\n",
      "Libraries imported.\n"
     ]
    }
   ],
   "source": [
    "import numpy as np # library to handle data in a vectorized manner\n",
    "\n",
    "import pandas as pd # library for data analsysis\n",
    "pd.set_option('display.max_columns', None)\n",
    "pd.set_option('display.max_rows', None)\n",
    "\n",
    "import json # library to handle JSON files\n",
    "\n",
    "!conda install -c conda-forge geopy --yes # uncomment this line if you haven't completed the Foursquare API lab\n",
    "from geopy.geocoders import Nominatim # convert an address into latitude and longitude values\n",
    "\n",
    "import requests # library to handle requests\n",
    "from pandas.io.json import json_normalize # tranform JSON file into a pandas dataframe\n",
    "\n",
    "# Matplotlib and associated plotting modules\n",
    "import matplotlib.cm as cm\n",
    "import matplotlib.colors as colors\n",
    "\n",
    "# import k-means from clustering stage\n",
    "from sklearn.cluster import KMeans\n",
    "\n",
    "!conda install -c conda-forge folium=0.5.0 --yes # uncomment this line if you haven't completed the Foursquare API lab\n",
    "import folium # map rendering library\n",
    "\n",
    "#!pip install pandas\n",
    "#!pip install requests\n",
    "!pip install bs4\n",
    "#!pip install plotly\n",
    "\n",
    "from bs4 import BeautifulSoup\n",
    "\n",
    "print('Libraries imported.')"
   ]
  },
  {
   "cell_type": "markdown",
   "metadata": {},
   "source": [
    "Next I will get the data and create a beautiful soup object."
   ]
  },
  {
   "cell_type": "code",
   "execution_count": 2,
   "metadata": {},
   "outputs": [],
   "source": [
    "url = \"https://edition.cnn.com/travel/article/50-surf-spots/index.html\"\n",
    "\n",
    "data  = requests.get(url).text"
   ]
  },
  {
   "cell_type": "code",
   "execution_count": 3,
   "metadata": {},
   "outputs": [],
   "source": [
    "soup = BeautifulSoup(data, 'html5lib')"
   ]
  },
  {
   "cell_type": "markdown",
   "metadata": {},
   "source": [
    "I had to do a bit of googling to figure out how to web scrape just the list of locations from the article but it wasn't too hard."
   ]
  },
  {
   "cell_type": "code",
   "execution_count": 4,
   "metadata": {},
   "outputs": [
    {
     "name": "stdout",
     "output_type": "stream",
     "text": [
      "[<h3>50. Eisbach, Munich</h3>, <h3>49. Baja Malibu, Baja Norte, Mexico</h3>, <h3>48. Fulong Beach, Taiwan</h3>, <h3>47. Surin Beach, Phuket, Thailand</h3>, <h3>46. Arugam Bay, Sri Lanka</h3>, <h3>45. Surfer's Point, Barbados</h3>, <h3>44. The Bubble, Fuerteventura, Canary Islands</h3>, <h3>43. Black's Beach, San Diego, California</h3>, <h3>42. Cape Hatteras Lighthouse, Buxton, North Carolina</h3>, <h3>41. Surf pool, United Arab Emirates</h3>, <h3>40. Biarritz, France</h3>, <h3>39. Ponta Preta, Maio, Cape Verde</h3>, <h3>38. Tofino, Vancouver Island, Canada</h3>, <h3>37. Byron Bay, New South Wales, Australia</h3>, <h3>36. Les Cavaliers, Anglet, France</h3>, <h3>35. Killer Point, Taghazoute, Morocco</h3>, <h3>34. Pedra Branca Ericeira, Portugal</h3>, <h3>33. Sao Francisco do Sul, Brazil</h3>, <h3>32. Coconuts, Samoa</h3>, <h3>31. Carrapateira, Portugal</h3>, <h3>30. Hanalei Bay, Hawaii</h3>, <h3>29. Rincon, Puerto Rico</h3>, <h3>28. Bundoran Beach, County Donegal, Ireland</h3>, <h3>27. Tamarindo Beach, Tamarindo, Costa Rica</h3>, <h3>26. Pasta Point, Maldives</h3>, <h3>25. Backdoor, Oahu, Hawaii</h3>, <h3>24. Watergate Bay, Cornwall, England</h3>, <h3>23. Cloudbreak, Tavarua Island, Fiji</h3>, <h3>22. Superbank, Gold Coast, Australia</h3>, <h3>21. Surfrider Beach, Malibu, California</h3>, <h3>20. The Box, Margaret River Valley, Australia</h3>, <h3>19. Jaws, Maui, Hawaii</h3>, <h3>18. Riyuewan, Sanya, Hainan Island, China</h3>, <h3>17. Manu Bay, Raglan, New Zealand</h3>, <h3>16. Nihiwatu, Sumba, Indonesia</h3>, <h3>15. Rincon, Santa Barbara, California </h3>, <h3>14. Montanita Beach, Montanita, Ecuador</h3>, <h3>13. Honolua Bay, Maui, Hawaii</h3>, <h3>12. Trestles, Orange County, California</h3>, <h3>11. Sultans, North Male, Maldives</h3>, <h3>10. Lance's Right, Sipora, Mentawais Islands, Sumatera Barat, Indonesia</h3>, <h3>9. Cloud Nine, Siargao Island, Philippines</h3>, <h3>8. Puerto Escondido, Southern Oaxaca, Mexico</h3>, <h3>7. Hossegor, France</h3>, <h3>6. Maverick's, California</h3>, <h3>5. P-Pass, Pohnpei, Federated States of Micronesia</h3>, <h3>4. Uluwatu and Kuta, Bali, Indonesia</h3>, <h3>3. Teahupo'o, Tahiti, French Polynesia </h3>, <h3>2. Supertubes, Jeffrey's Bay, South Africa</h3>, <h3>1. Pipeline, Oahu, Hawaii</h3>]\n"
     ]
    }
   ],
   "source": [
    "surfspot_names=soup.find_all(\"h3\")\n",
    "print(surfspot_names)\n"
   ]
  },
  {
   "cell_type": "code",
   "execution_count": 5,
   "metadata": {},
   "outputs": [],
   "source": [
    "surfspot_list = []\n",
    "for b in surfspot_names[0:]:\n",
    "    result = b.text.strip()\n",
    "    surfspot_list.append(result)\n"
   ]
  },
  {
   "cell_type": "code",
   "execution_count": 6,
   "metadata": {},
   "outputs": [
    {
     "name": "stdout",
     "output_type": "stream",
     "text": [
      "['50. Eisbach, Munich', '49. Baja Malibu, Baja Norte, Mexico', '48. Fulong Beach, Taiwan', '47. Surin Beach, Phuket, Thailand', '46. Arugam Bay, Sri Lanka', \"45. Surfer's Point, Barbados\", '44. The Bubble, Fuerteventura, Canary Islands', \"43. Black's Beach, San Diego, California\", '42. Cape Hatteras Lighthouse, Buxton, North Carolina', '41. Surf pool, United Arab Emirates', '40. Biarritz, France', '39. Ponta Preta, Maio, Cape Verde', '38. Tofino, Vancouver Island, Canada', '37. Byron Bay, New South Wales, Australia', '36. Les Cavaliers, Anglet, France', '35. Killer Point, Taghazoute, Morocco', '34. Pedra Branca Ericeira, Portugal', '33. Sao Francisco do Sul, Brazil', '32. Coconuts, Samoa', '31. Carrapateira, Portugal', '30. Hanalei Bay, Hawaii', '29. Rincon, Puerto Rico', '28. Bundoran Beach, County Donegal, Ireland', '27. Tamarindo Beach, Tamarindo, Costa Rica', '26. Pasta Point, Maldives', '25. Backdoor, Oahu, Hawaii', '24. Watergate Bay, Cornwall, England', '23. Cloudbreak, Tavarua Island, Fiji', '22. Superbank, Gold Coast, Australia', '21. Surfrider Beach, Malibu, California', '20. The Box, Margaret River Valley, Australia', '19. Jaws, Maui, Hawaii', '18. Riyuewan, Sanya, Hainan Island, China', '17. Manu Bay, Raglan, New Zealand', '16. Nihiwatu, Sumba, Indonesia', '15. Rincon, Santa Barbara, California', '14. Montanita Beach, Montanita, Ecuador', '13. Honolua Bay, Maui, Hawaii', '12. Trestles, Orange County, California', '11. Sultans, North Male, Maldives', \"10. Lance's Right, Sipora, Mentawais Islands, Sumatera Barat, Indonesia\", '9. Cloud Nine, Siargao Island, Philippines', '8. Puerto Escondido, Southern Oaxaca, Mexico', '7. Hossegor, France', \"6. Maverick's, California\", '5. P-Pass, Pohnpei, Federated States of Micronesia', '4. Uluwatu and Kuta, Bali, Indonesia', \"3. Teahupo'o, Tahiti, French Polynesia\", \"2. Supertubes, Jeffrey's Bay, South Africa\", '1. Pipeline, Oahu, Hawaii']\n"
     ]
    }
   ],
   "source": [
    "print(surfspot_list)"
   ]
  },
  {
   "cell_type": "markdown",
   "metadata": {},
   "source": [
    "In the next bunch of cells I split the row data using the period as a delimiter and name the columns, dropping the numbers attached to each location so I end up with a neat list of surf spots."
   ]
  },
  {
   "cell_type": "code",
   "execution_count": 7,
   "metadata": {},
   "outputs": [],
   "source": [
    "df = pd. DataFrame(surfspot_list)"
   ]
  },
  {
   "cell_type": "code",
   "execution_count": 8,
   "metadata": {},
   "outputs": [
    {
     "data": {
      "text/html": [
       "<div>\n",
       "<style scoped>\n",
       "    .dataframe tbody tr th:only-of-type {\n",
       "        vertical-align: middle;\n",
       "    }\n",
       "\n",
       "    .dataframe tbody tr th {\n",
       "        vertical-align: top;\n",
       "    }\n",
       "\n",
       "    .dataframe thead th {\n",
       "        text-align: right;\n",
       "    }\n",
       "</style>\n",
       "<table border=\"1\" class=\"dataframe\">\n",
       "  <thead>\n",
       "    <tr style=\"text-align: right;\">\n",
       "      <th></th>\n",
       "      <th>0</th>\n",
       "    </tr>\n",
       "  </thead>\n",
       "  <tbody>\n",
       "    <tr>\n",
       "      <th>0</th>\n",
       "      <td>50. Eisbach, Munich</td>\n",
       "    </tr>\n",
       "    <tr>\n",
       "      <th>1</th>\n",
       "      <td>49. Baja Malibu, Baja Norte, Mexico</td>\n",
       "    </tr>\n",
       "    <tr>\n",
       "      <th>2</th>\n",
       "      <td>48. Fulong Beach, Taiwan</td>\n",
       "    </tr>\n",
       "    <tr>\n",
       "      <th>3</th>\n",
       "      <td>47. Surin Beach, Phuket, Thailand</td>\n",
       "    </tr>\n",
       "    <tr>\n",
       "      <th>4</th>\n",
       "      <td>46. Arugam Bay, Sri Lanka</td>\n",
       "    </tr>\n",
       "  </tbody>\n",
       "</table>\n",
       "</div>"
      ],
      "text/plain": [
       "                                     0\n",
       "0                  50. Eisbach, Munich\n",
       "1  49. Baja Malibu, Baja Norte, Mexico\n",
       "2             48. Fulong Beach, Taiwan\n",
       "3    47. Surin Beach, Phuket, Thailand\n",
       "4            46. Arugam Bay, Sri Lanka"
      ]
     },
     "execution_count": 8,
     "metadata": {},
     "output_type": "execute_result"
    }
   ],
   "source": [
    "df.head()"
   ]
  },
  {
   "cell_type": "code",
   "execution_count": 9,
   "metadata": {},
   "outputs": [],
   "source": [
    "df.columns =['Surf Spot']"
   ]
  },
  {
   "cell_type": "code",
   "execution_count": 10,
   "metadata": {},
   "outputs": [
    {
     "data": {
      "text/html": [
       "<div>\n",
       "<style scoped>\n",
       "    .dataframe tbody tr th:only-of-type {\n",
       "        vertical-align: middle;\n",
       "    }\n",
       "\n",
       "    .dataframe tbody tr th {\n",
       "        vertical-align: top;\n",
       "    }\n",
       "\n",
       "    .dataframe thead th {\n",
       "        text-align: right;\n",
       "    }\n",
       "</style>\n",
       "<table border=\"1\" class=\"dataframe\">\n",
       "  <thead>\n",
       "    <tr style=\"text-align: right;\">\n",
       "      <th></th>\n",
       "      <th>Surf Spot</th>\n",
       "    </tr>\n",
       "  </thead>\n",
       "  <tbody>\n",
       "    <tr>\n",
       "      <th>0</th>\n",
       "      <td>50. Eisbach, Munich</td>\n",
       "    </tr>\n",
       "    <tr>\n",
       "      <th>1</th>\n",
       "      <td>49. Baja Malibu, Baja Norte, Mexico</td>\n",
       "    </tr>\n",
       "    <tr>\n",
       "      <th>2</th>\n",
       "      <td>48. Fulong Beach, Taiwan</td>\n",
       "    </tr>\n",
       "    <tr>\n",
       "      <th>3</th>\n",
       "      <td>47. Surin Beach, Phuket, Thailand</td>\n",
       "    </tr>\n",
       "    <tr>\n",
       "      <th>4</th>\n",
       "      <td>46. Arugam Bay, Sri Lanka</td>\n",
       "    </tr>\n",
       "  </tbody>\n",
       "</table>\n",
       "</div>"
      ],
      "text/plain": [
       "                             Surf Spot\n",
       "0                  50. Eisbach, Munich\n",
       "1  49. Baja Malibu, Baja Norte, Mexico\n",
       "2             48. Fulong Beach, Taiwan\n",
       "3    47. Surin Beach, Phuket, Thailand\n",
       "4            46. Arugam Bay, Sri Lanka"
      ]
     },
     "execution_count": 10,
     "metadata": {},
     "output_type": "execute_result"
    }
   ],
   "source": [
    "df.head()"
   ]
  },
  {
   "cell_type": "code",
   "execution_count": 11,
   "metadata": {},
   "outputs": [],
   "source": [
    "new = df[\"Surf Spot\"].str.split(\".\", n = 1, expand = True)"
   ]
  },
  {
   "cell_type": "code",
   "execution_count": 12,
   "metadata": {},
   "outputs": [
    {
     "data": {
      "text/html": [
       "<div>\n",
       "<style scoped>\n",
       "    .dataframe tbody tr th:only-of-type {\n",
       "        vertical-align: middle;\n",
       "    }\n",
       "\n",
       "    .dataframe tbody tr th {\n",
       "        vertical-align: top;\n",
       "    }\n",
       "\n",
       "    .dataframe thead th {\n",
       "        text-align: right;\n",
       "    }\n",
       "</style>\n",
       "<table border=\"1\" class=\"dataframe\">\n",
       "  <thead>\n",
       "    <tr style=\"text-align: right;\">\n",
       "      <th></th>\n",
       "      <th>0</th>\n",
       "      <th>1</th>\n",
       "    </tr>\n",
       "  </thead>\n",
       "  <tbody>\n",
       "    <tr>\n",
       "      <th>45</th>\n",
       "      <td>5</td>\n",
       "      <td>P-Pass, Pohnpei, Federated States of Micronesia</td>\n",
       "    </tr>\n",
       "    <tr>\n",
       "      <th>46</th>\n",
       "      <td>4</td>\n",
       "      <td>Uluwatu and Kuta, Bali, Indonesia</td>\n",
       "    </tr>\n",
       "    <tr>\n",
       "      <th>47</th>\n",
       "      <td>3</td>\n",
       "      <td>Teahupo'o, Tahiti, French Polynesia</td>\n",
       "    </tr>\n",
       "    <tr>\n",
       "      <th>48</th>\n",
       "      <td>2</td>\n",
       "      <td>Supertubes, Jeffrey's Bay, South Africa</td>\n",
       "    </tr>\n",
       "    <tr>\n",
       "      <th>49</th>\n",
       "      <td>1</td>\n",
       "      <td>Pipeline, Oahu, Hawaii</td>\n",
       "    </tr>\n",
       "  </tbody>\n",
       "</table>\n",
       "</div>"
      ],
      "text/plain": [
       "    0                                                 1\n",
       "45  5   P-Pass, Pohnpei, Federated States of Micronesia\n",
       "46  4                 Uluwatu and Kuta, Bali, Indonesia\n",
       "47  3               Teahupo'o, Tahiti, French Polynesia\n",
       "48  2           Supertubes, Jeffrey's Bay, South Africa\n",
       "49  1                            Pipeline, Oahu, Hawaii"
      ]
     },
     "execution_count": 12,
     "metadata": {},
     "output_type": "execute_result"
    }
   ],
   "source": [
    "new.tail()"
   ]
  },
  {
   "cell_type": "code",
   "execution_count": 13,
   "metadata": {},
   "outputs": [],
   "source": [
    "new.columns =['Drop', 'Surf Spot']"
   ]
  },
  {
   "cell_type": "code",
   "execution_count": 14,
   "metadata": {},
   "outputs": [
    {
     "data": {
      "text/html": [
       "<div>\n",
       "<style scoped>\n",
       "    .dataframe tbody tr th:only-of-type {\n",
       "        vertical-align: middle;\n",
       "    }\n",
       "\n",
       "    .dataframe tbody tr th {\n",
       "        vertical-align: top;\n",
       "    }\n",
       "\n",
       "    .dataframe thead th {\n",
       "        text-align: right;\n",
       "    }\n",
       "</style>\n",
       "<table border=\"1\" class=\"dataframe\">\n",
       "  <thead>\n",
       "    <tr style=\"text-align: right;\">\n",
       "      <th></th>\n",
       "      <th>Drop</th>\n",
       "      <th>Surf Spot</th>\n",
       "    </tr>\n",
       "  </thead>\n",
       "  <tbody>\n",
       "    <tr>\n",
       "      <th>0</th>\n",
       "      <td>50</td>\n",
       "      <td>Eisbach, Munich</td>\n",
       "    </tr>\n",
       "    <tr>\n",
       "      <th>1</th>\n",
       "      <td>49</td>\n",
       "      <td>Baja Malibu, Baja Norte, Mexico</td>\n",
       "    </tr>\n",
       "    <tr>\n",
       "      <th>2</th>\n",
       "      <td>48</td>\n",
       "      <td>Fulong Beach, Taiwan</td>\n",
       "    </tr>\n",
       "    <tr>\n",
       "      <th>3</th>\n",
       "      <td>47</td>\n",
       "      <td>Surin Beach, Phuket, Thailand</td>\n",
       "    </tr>\n",
       "    <tr>\n",
       "      <th>4</th>\n",
       "      <td>46</td>\n",
       "      <td>Arugam Bay, Sri Lanka</td>\n",
       "    </tr>\n",
       "  </tbody>\n",
       "</table>\n",
       "</div>"
      ],
      "text/plain": [
       "  Drop                         Surf Spot\n",
       "0   50                   Eisbach, Munich\n",
       "1   49   Baja Malibu, Baja Norte, Mexico\n",
       "2   48              Fulong Beach, Taiwan\n",
       "3   47     Surin Beach, Phuket, Thailand\n",
       "4   46             Arugam Bay, Sri Lanka"
      ]
     },
     "execution_count": 14,
     "metadata": {},
     "output_type": "execute_result"
    }
   ],
   "source": [
    "new.head()"
   ]
  },
  {
   "cell_type": "code",
   "execution_count": 49,
   "metadata": {},
   "outputs": [
    {
     "data": {
      "text/html": [
       "<div>\n",
       "<style scoped>\n",
       "    .dataframe tbody tr th:only-of-type {\n",
       "        vertical-align: middle;\n",
       "    }\n",
       "\n",
       "    .dataframe tbody tr th {\n",
       "        vertical-align: top;\n",
       "    }\n",
       "\n",
       "    .dataframe thead th {\n",
       "        text-align: right;\n",
       "    }\n",
       "</style>\n",
       "<table border=\"1\" class=\"dataframe\">\n",
       "  <thead>\n",
       "    <tr style=\"text-align: right;\">\n",
       "      <th></th>\n",
       "      <th>Surf Spot</th>\n",
       "    </tr>\n",
       "  </thead>\n",
       "  <tbody>\n",
       "    <tr>\n",
       "      <th>0</th>\n",
       "      <td>Eisbach, Munich</td>\n",
       "    </tr>\n",
       "    <tr>\n",
       "      <th>1</th>\n",
       "      <td>Baja Malibu, Baja Norte, Mexico</td>\n",
       "    </tr>\n",
       "    <tr>\n",
       "      <th>2</th>\n",
       "      <td>Fulong Beach, Taiwan</td>\n",
       "    </tr>\n",
       "    <tr>\n",
       "      <th>3</th>\n",
       "      <td>Surin Beach, Phuket, Thailand</td>\n",
       "    </tr>\n",
       "    <tr>\n",
       "      <th>4</th>\n",
       "      <td>Arugam Bay, Sri Lanka</td>\n",
       "    </tr>\n",
       "    <tr>\n",
       "      <th>5</th>\n",
       "      <td>Surfer's Point, Barbados</td>\n",
       "    </tr>\n",
       "    <tr>\n",
       "      <th>6</th>\n",
       "      <td>The Bubble, Fuerteventura, Canary Islands</td>\n",
       "    </tr>\n",
       "    <tr>\n",
       "      <th>7</th>\n",
       "      <td>Black's Beach, San Diego, California</td>\n",
       "    </tr>\n",
       "    <tr>\n",
       "      <th>8</th>\n",
       "      <td>Cape Hatteras Lighthouse, Buxton, North Carolina</td>\n",
       "    </tr>\n",
       "    <tr>\n",
       "      <th>9</th>\n",
       "      <td>Surf pool, United Arab Emirates</td>\n",
       "    </tr>\n",
       "    <tr>\n",
       "      <th>10</th>\n",
       "      <td>Biarritz, France</td>\n",
       "    </tr>\n",
       "    <tr>\n",
       "      <th>11</th>\n",
       "      <td>Ponta Preta, Maio, Cape Verde</td>\n",
       "    </tr>\n",
       "    <tr>\n",
       "      <th>12</th>\n",
       "      <td>Tofino, Vancouver Island, Canada</td>\n",
       "    </tr>\n",
       "    <tr>\n",
       "      <th>13</th>\n",
       "      <td>Byron Bay, New South Wales, Australia</td>\n",
       "    </tr>\n",
       "    <tr>\n",
       "      <th>14</th>\n",
       "      <td>Les Cavaliers, Anglet, France</td>\n",
       "    </tr>\n",
       "    <tr>\n",
       "      <th>15</th>\n",
       "      <td>Killer Point, Taghazoute, Morocco</td>\n",
       "    </tr>\n",
       "    <tr>\n",
       "      <th>16</th>\n",
       "      <td>Pedra Branca Ericeira, Portugal</td>\n",
       "    </tr>\n",
       "    <tr>\n",
       "      <th>17</th>\n",
       "      <td>Sao Francisco do Sul, Brazil</td>\n",
       "    </tr>\n",
       "    <tr>\n",
       "      <th>18</th>\n",
       "      <td>Coconuts, Samoa</td>\n",
       "    </tr>\n",
       "    <tr>\n",
       "      <th>19</th>\n",
       "      <td>Carrapateira, Portugal</td>\n",
       "    </tr>\n",
       "    <tr>\n",
       "      <th>20</th>\n",
       "      <td>Hanalei Bay, Hawaii</td>\n",
       "    </tr>\n",
       "    <tr>\n",
       "      <th>21</th>\n",
       "      <td>Rincon, Puerto Rico</td>\n",
       "    </tr>\n",
       "    <tr>\n",
       "      <th>22</th>\n",
       "      <td>Bundoran Beach, County Donegal, Ireland</td>\n",
       "    </tr>\n",
       "    <tr>\n",
       "      <th>23</th>\n",
       "      <td>Tamarindo Beach, Tamarindo, Costa Rica</td>\n",
       "    </tr>\n",
       "    <tr>\n",
       "      <th>24</th>\n",
       "      <td>Pasta Point, Maldives</td>\n",
       "    </tr>\n",
       "    <tr>\n",
       "      <th>25</th>\n",
       "      <td>Backdoor, Oahu, Hawaii</td>\n",
       "    </tr>\n",
       "    <tr>\n",
       "      <th>26</th>\n",
       "      <td>Watergate Bay, Cornwall, England</td>\n",
       "    </tr>\n",
       "    <tr>\n",
       "      <th>27</th>\n",
       "      <td>Cloudbreak, Tavarua Island, Fiji</td>\n",
       "    </tr>\n",
       "    <tr>\n",
       "      <th>28</th>\n",
       "      <td>Superbank, Gold Coast, Australia</td>\n",
       "    </tr>\n",
       "    <tr>\n",
       "      <th>29</th>\n",
       "      <td>Surfrider Beach, Malibu, California</td>\n",
       "    </tr>\n",
       "    <tr>\n",
       "      <th>30</th>\n",
       "      <td>The Box, Margaret River Valley, Australia</td>\n",
       "    </tr>\n",
       "    <tr>\n",
       "      <th>31</th>\n",
       "      <td>Jaws, Maui, Hawaii</td>\n",
       "    </tr>\n",
       "    <tr>\n",
       "      <th>32</th>\n",
       "      <td>Riyuewan, Sanya, Hainan Island, China</td>\n",
       "    </tr>\n",
       "    <tr>\n",
       "      <th>33</th>\n",
       "      <td>Manu Bay, Raglan, New Zealand</td>\n",
       "    </tr>\n",
       "    <tr>\n",
       "      <th>34</th>\n",
       "      <td>Nihiwatu, Sumba, Indonesia</td>\n",
       "    </tr>\n",
       "    <tr>\n",
       "      <th>35</th>\n",
       "      <td>Rincon, Santa Barbara, California</td>\n",
       "    </tr>\n",
       "    <tr>\n",
       "      <th>36</th>\n",
       "      <td>Montanita Beach, Montanita, Ecuador</td>\n",
       "    </tr>\n",
       "    <tr>\n",
       "      <th>37</th>\n",
       "      <td>Honolua Bay, Maui, Hawaii</td>\n",
       "    </tr>\n",
       "    <tr>\n",
       "      <th>38</th>\n",
       "      <td>Trestles, Orange County, California</td>\n",
       "    </tr>\n",
       "    <tr>\n",
       "      <th>39</th>\n",
       "      <td>Sultans, North Male, Maldives</td>\n",
       "    </tr>\n",
       "    <tr>\n",
       "      <th>40</th>\n",
       "      <td>Lance's Right, Sipora, Mentawais Islands, Sum...</td>\n",
       "    </tr>\n",
       "    <tr>\n",
       "      <th>41</th>\n",
       "      <td>Cloud Nine, Siargao Island, Philippines</td>\n",
       "    </tr>\n",
       "    <tr>\n",
       "      <th>42</th>\n",
       "      <td>Puerto Escondido, Southern Oaxaca, Mexico</td>\n",
       "    </tr>\n",
       "    <tr>\n",
       "      <th>43</th>\n",
       "      <td>Hossegor, France</td>\n",
       "    </tr>\n",
       "    <tr>\n",
       "      <th>44</th>\n",
       "      <td>Maverick's, California</td>\n",
       "    </tr>\n",
       "    <tr>\n",
       "      <th>45</th>\n",
       "      <td>P-Pass, Pohnpei, Federated States of Micronesia</td>\n",
       "    </tr>\n",
       "    <tr>\n",
       "      <th>46</th>\n",
       "      <td>Uluwatu and Kuta, Bali, Indonesia</td>\n",
       "    </tr>\n",
       "    <tr>\n",
       "      <th>47</th>\n",
       "      <td>Teahupo'o, Tahiti, French Polynesia</td>\n",
       "    </tr>\n",
       "    <tr>\n",
       "      <th>48</th>\n",
       "      <td>Supertubes, Jeffrey's Bay, South Africa</td>\n",
       "    </tr>\n",
       "    <tr>\n",
       "      <th>49</th>\n",
       "      <td>Pipeline, Oahu, Hawaii</td>\n",
       "    </tr>\n",
       "  </tbody>\n",
       "</table>\n",
       "</div>"
      ],
      "text/plain": [
       "                                            Surf Spot\n",
       "0                                     Eisbach, Munich\n",
       "1                     Baja Malibu, Baja Norte, Mexico\n",
       "2                                Fulong Beach, Taiwan\n",
       "3                       Surin Beach, Phuket, Thailand\n",
       "4                               Arugam Bay, Sri Lanka\n",
       "5                            Surfer's Point, Barbados\n",
       "6           The Bubble, Fuerteventura, Canary Islands\n",
       "7                Black's Beach, San Diego, California\n",
       "8    Cape Hatteras Lighthouse, Buxton, North Carolina\n",
       "9                     Surf pool, United Arab Emirates\n",
       "10                                   Biarritz, France\n",
       "11                      Ponta Preta, Maio, Cape Verde\n",
       "12                   Tofino, Vancouver Island, Canada\n",
       "13              Byron Bay, New South Wales, Australia\n",
       "14                      Les Cavaliers, Anglet, France\n",
       "15                  Killer Point, Taghazoute, Morocco\n",
       "16                    Pedra Branca Ericeira, Portugal\n",
       "17                       Sao Francisco do Sul, Brazil\n",
       "18                                    Coconuts, Samoa\n",
       "19                             Carrapateira, Portugal\n",
       "20                                Hanalei Bay, Hawaii\n",
       "21                                Rincon, Puerto Rico\n",
       "22            Bundoran Beach, County Donegal, Ireland\n",
       "23             Tamarindo Beach, Tamarindo, Costa Rica\n",
       "24                              Pasta Point, Maldives\n",
       "25                             Backdoor, Oahu, Hawaii\n",
       "26                   Watergate Bay, Cornwall, England\n",
       "27                   Cloudbreak, Tavarua Island, Fiji\n",
       "28                   Superbank, Gold Coast, Australia\n",
       "29                Surfrider Beach, Malibu, California\n",
       "30          The Box, Margaret River Valley, Australia\n",
       "31                                 Jaws, Maui, Hawaii\n",
       "32              Riyuewan, Sanya, Hainan Island, China\n",
       "33                      Manu Bay, Raglan, New Zealand\n",
       "34                         Nihiwatu, Sumba, Indonesia\n",
       "35                  Rincon, Santa Barbara, California\n",
       "36                Montanita Beach, Montanita, Ecuador\n",
       "37                          Honolua Bay, Maui, Hawaii\n",
       "38                Trestles, Orange County, California\n",
       "39                      Sultans, North Male, Maldives\n",
       "40   Lance's Right, Sipora, Mentawais Islands, Sum...\n",
       "41            Cloud Nine, Siargao Island, Philippines\n",
       "42          Puerto Escondido, Southern Oaxaca, Mexico\n",
       "43                                   Hossegor, France\n",
       "44                             Maverick's, California\n",
       "45    P-Pass, Pohnpei, Federated States of Micronesia\n",
       "46                  Uluwatu and Kuta, Bali, Indonesia\n",
       "47                Teahupo'o, Tahiti, French Polynesia\n",
       "48            Supertubes, Jeffrey's Bay, South Africa\n",
       "49                             Pipeline, Oahu, Hawaii"
      ]
     },
     "execution_count": 49,
     "metadata": {},
     "output_type": "execute_result"
    }
   ],
   "source": [
    "new.drop(['Drop'], axis = 1)"
   ]
  },
  {
   "cell_type": "markdown",
   "metadata": {},
   "source": [
    "Above you see the full list of the surf spots printed. The next step is to get the GPS coordinates of each spot and add them to the data frame."
   ]
  },
  {
   "cell_type": "code",
   "execution_count": 15,
   "metadata": {},
   "outputs": [
    {
     "name": "stdout",
     "output_type": "stream",
     "text": [
      "[' Eisbach, Munich', ' Baja Malibu, Baja Norte, Mexico', ' Fulong Beach, Taiwan', ' Surin Beach, Phuket, Thailand', ' Arugam Bay, Sri Lanka', \" Surfer's Point, Barbados\", ' The Bubble, Fuerteventura, Canary Islands', \" Black's Beach, San Diego, California\", ' Cape Hatteras Lighthouse, Buxton, North Carolina', ' Surf pool, United Arab Emirates', ' Biarritz, France', ' Ponta Preta, Maio, Cape Verde', ' Tofino, Vancouver Island, Canada', ' Byron Bay, New South Wales, Australia', ' Les Cavaliers, Anglet, France', ' Killer Point, Taghazoute, Morocco', ' Pedra Branca Ericeira, Portugal', ' Sao Francisco do Sul, Brazil', ' Coconuts, Samoa', ' Carrapateira, Portugal', ' Hanalei Bay, Hawaii', ' Rincon, Puerto Rico', ' Bundoran Beach, County Donegal, Ireland', ' Tamarindo Beach, Tamarindo, Costa Rica', ' Pasta Point, Maldives', ' Backdoor, Oahu, Hawaii', ' Watergate Bay, Cornwall, England', ' Cloudbreak, Tavarua Island, Fiji', ' Superbank, Gold Coast, Australia', ' Surfrider Beach, Malibu, California', ' The Box, Margaret River Valley, Australia', ' Jaws, Maui, Hawaii', ' Riyuewan, Sanya, Hainan Island, China', ' Manu Bay, Raglan, New Zealand', ' Nihiwatu, Sumba, Indonesia', ' Rincon, Santa Barbara, California', ' Montanita Beach, Montanita, Ecuador', ' Honolua Bay, Maui, Hawaii', ' Trestles, Orange County, California', ' Sultans, North Male, Maldives', \" Lance's Right, Sipora, Mentawais Islands, Sumatera Barat, Indonesia\", ' Cloud Nine, Siargao Island, Philippines', ' Puerto Escondido, Southern Oaxaca, Mexico', ' Hossegor, France', \" Maverick's, California\", ' P-Pass, Pohnpei, Federated States of Micronesia', ' Uluwatu and Kuta, Bali, Indonesia', \" Teahupo'o, Tahiti, French Polynesia\", \" Supertubes, Jeffrey's Bay, South Africa\", ' Pipeline, Oahu, Hawaii']\n"
     ]
    }
   ],
   "source": [
    "spot_list = new[\"Surf Spot\"].tolist()\n",
    "print(spot_list)"
   ]
  },
  {
   "cell_type": "markdown",
   "metadata": {},
   "source": [
    "I spent a lot of time trying to get the coordinates with geocoder but eventually had to manually get them and uploaded the file to my github."
   ]
  },
  {
   "cell_type": "markdown",
   "metadata": {},
   "source": [
    "I uploaded the data to my IBM Watson project and used the insert to code function to create the data frame below"
   ]
  },
  {
   "cell_type": "code",
   "execution_count": 16,
   "metadata": {},
   "outputs": [
    {
     "data": {
      "text/html": [
       "<div>\n",
       "<style scoped>\n",
       "    .dataframe tbody tr th:only-of-type {\n",
       "        vertical-align: middle;\n",
       "    }\n",
       "\n",
       "    .dataframe tbody tr th {\n",
       "        vertical-align: top;\n",
       "    }\n",
       "\n",
       "    .dataframe thead th {\n",
       "        text-align: right;\n",
       "    }\n",
       "</style>\n",
       "<table border=\"1\" class=\"dataframe\">\n",
       "  <thead>\n",
       "    <tr style=\"text-align: right;\">\n",
       "      <th></th>\n",
       "      <th>Surf Spots</th>\n",
       "      <th>Latitude</th>\n",
       "      <th>Longitude</th>\n",
       "    </tr>\n",
       "  </thead>\n",
       "  <tbody>\n",
       "    <tr>\n",
       "      <th>0</th>\n",
       "      <td>Eisbach, Munich</td>\n",
       "      <td>48.135100</td>\n",
       "      <td>11.582000</td>\n",
       "    </tr>\n",
       "    <tr>\n",
       "      <th>1</th>\n",
       "      <td>Baja Malibu, Baja Norte, Mexico</td>\n",
       "      <td>32.522500</td>\n",
       "      <td>-117.046623</td>\n",
       "    </tr>\n",
       "    <tr>\n",
       "      <th>2</th>\n",
       "      <td>Fulong Beach, Taiwan</td>\n",
       "      <td>25.022000</td>\n",
       "      <td>121.943200</td>\n",
       "    </tr>\n",
       "    <tr>\n",
       "      <th>3</th>\n",
       "      <td>Surin Beach, Phuket, Thailand</td>\n",
       "      <td>7.975473</td>\n",
       "      <td>98.278467</td>\n",
       "    </tr>\n",
       "    <tr>\n",
       "      <th>4</th>\n",
       "      <td>Arugam Bay, Sri Lanka</td>\n",
       "      <td>6.840400</td>\n",
       "      <td>81.836800</td>\n",
       "    </tr>\n",
       "  </tbody>\n",
       "</table>\n",
       "</div>"
      ],
      "text/plain": [
       "                         Surf Spots   Latitude   Longitude\n",
       "0                   Eisbach, Munich  48.135100   11.582000\n",
       "1   Baja Malibu, Baja Norte, Mexico  32.522500 -117.046623\n",
       "2              Fulong Beach, Taiwan  25.022000  121.943200\n",
       "3     Surin Beach, Phuket, Thailand   7.975473   98.278467\n",
       "4             Arugam Bay, Sri Lanka   6.840400   81.836800"
      ]
     },
     "execution_count": 16,
     "metadata": {},
     "output_type": "execute_result"
    }
   ],
   "source": [
    "\n",
    "import os, types\n",
    "import pandas as pd\n",
    "from botocore.client import Config\n",
    "import ibm_boto3\n",
    "\n",
    "def __iter__(self): return 0\n",
    "\n",
    "# @hidden_cell\n",
    "# The following code accesses a file in your IBM Cloud Object Storage. It includes your credentials.\n",
    "# You might want to remove those credentials before you share the notebook.\n",
    "\n",
    "if os.environ.get('RUNTIME_ENV_LOCATION_TYPE') == 'external':\n",
    "    endpoint_5324950dd2db4d59ac58b27ffb6b49f4 = 'https://s3.us.cloud-object-storage.appdomain.cloud'\n",
    "else:\n",
    "    endpoint_5324950dd2db4d59ac58b27ffb6b49f4 = 'https://s3.private.us.cloud-object-storage.appdomain.cloud'\n",
    "\n",
    "client_5324950dd2db4d59ac58b27ffb6b49f4 = ibm_boto3.client(service_name='s3',\n",
    "    ibm_api_key_id='r3qkgQVfGQJ4IMqihxxM4vIlQVo_EAxVW8BLH4DmlQIt',\n",
    "    ibm_auth_endpoint=\"https://iam.cloud.ibm.com/oidc/token\",\n",
    "    config=Config(signature_version='oauth'),\n",
    "    endpoint_url=endpoint_5324950dd2db4d59ac58b27ffb6b49f4)\n",
    "\n",
    "body = client_5324950dd2db4d59ac58b27ffb6b49f4.get_object(Bucket='capstonecoursefordatascience-donotdelete-pr-ykpu8zksml9tlr',Key='Spots with Geo Data.csv')['Body']\n",
    "# add missing __iter__ method, so pandas accepts body as file-like object\n",
    "if not hasattr(body, \"__iter__\"): body.__iter__ = types.MethodType( __iter__, body )\n",
    "\n",
    "df_data_1 = pd.read_csv(body)\n",
    "df_data_1.head()\n"
   ]
  },
  {
   "cell_type": "code",
   "execution_count": 17,
   "metadata": {},
   "outputs": [],
   "source": [
    "df2 = df_data_1"
   ]
  },
  {
   "cell_type": "code",
   "execution_count": 18,
   "metadata": {},
   "outputs": [],
   "source": [
    "df2 = df2.rename(columns={'Surf Spots':'Surf Spot'})"
   ]
  },
  {
   "cell_type": "code",
   "execution_count": 19,
   "metadata": {},
   "outputs": [
    {
     "data": {
      "text/html": [
       "<div>\n",
       "<style scoped>\n",
       "    .dataframe tbody tr th:only-of-type {\n",
       "        vertical-align: middle;\n",
       "    }\n",
       "\n",
       "    .dataframe tbody tr th {\n",
       "        vertical-align: top;\n",
       "    }\n",
       "\n",
       "    .dataframe thead th {\n",
       "        text-align: right;\n",
       "    }\n",
       "</style>\n",
       "<table border=\"1\" class=\"dataframe\">\n",
       "  <thead>\n",
       "    <tr style=\"text-align: right;\">\n",
       "      <th></th>\n",
       "      <th>Surf Spot</th>\n",
       "      <th>Latitude</th>\n",
       "      <th>Longitude</th>\n",
       "    </tr>\n",
       "  </thead>\n",
       "  <tbody>\n",
       "    <tr>\n",
       "      <th>0</th>\n",
       "      <td>Eisbach, Munich</td>\n",
       "      <td>48.135100</td>\n",
       "      <td>11.582000</td>\n",
       "    </tr>\n",
       "    <tr>\n",
       "      <th>1</th>\n",
       "      <td>Baja Malibu, Baja Norte, Mexico</td>\n",
       "      <td>32.522500</td>\n",
       "      <td>-117.046623</td>\n",
       "    </tr>\n",
       "    <tr>\n",
       "      <th>2</th>\n",
       "      <td>Fulong Beach, Taiwan</td>\n",
       "      <td>25.022000</td>\n",
       "      <td>121.943200</td>\n",
       "    </tr>\n",
       "    <tr>\n",
       "      <th>3</th>\n",
       "      <td>Surin Beach, Phuket, Thailand</td>\n",
       "      <td>7.975473</td>\n",
       "      <td>98.278467</td>\n",
       "    </tr>\n",
       "    <tr>\n",
       "      <th>4</th>\n",
       "      <td>Arugam Bay, Sri Lanka</td>\n",
       "      <td>6.840400</td>\n",
       "      <td>81.836800</td>\n",
       "    </tr>\n",
       "  </tbody>\n",
       "</table>\n",
       "</div>"
      ],
      "text/plain": [
       "                          Surf Spot   Latitude   Longitude\n",
       "0                   Eisbach, Munich  48.135100   11.582000\n",
       "1   Baja Malibu, Baja Norte, Mexico  32.522500 -117.046623\n",
       "2              Fulong Beach, Taiwan  25.022000  121.943200\n",
       "3     Surin Beach, Phuket, Thailand   7.975473   98.278467\n",
       "4             Arugam Bay, Sri Lanka   6.840400   81.836800"
      ]
     },
     "execution_count": 19,
     "metadata": {},
     "output_type": "execute_result"
    }
   ],
   "source": [
    "df2.head()"
   ]
  },
  {
   "cell_type": "code",
   "execution_count": 20,
   "metadata": {},
   "outputs": [
    {
     "name": "stdout",
     "output_type": "stream",
     "text": [
      "Your credentails:\n",
      "CLIENT_ID: J5V3TBLWMG0PLF1IKMBIW0DUFVTNRYXDBWBZRO4KTNS2UGSV\n",
      "CLIENT_SECRET:UT1DAF5ZQYBN2ZLWE3OTRG1LZNAPUR1QLUXCV42N4JSKNVCJ\n"
     ]
    }
   ],
   "source": [
    "CLIENT_ID = 'J5V3TBLWMG0PLF1IKMBIW0DUFVTNRYXDBWBZRO4KTNS2UGSV' # your Foursquare ID\n",
    "CLIENT_SECRET = 'UT1DAF5ZQYBN2ZLWE3OTRG1LZNAPUR1QLUXCV42N4JSKNVCJ' # your Foursquare Secret\n",
    "VERSION = '20180605' # Foursquare API version\n",
    "LIMIT = 100 # A default Foursquare API limit value\n",
    "\n",
    "print('Your credentails:')\n",
    "print('CLIENT_ID: ' + CLIENT_ID)\n",
    "print('CLIENT_SECRET:' + CLIENT_SECRET)"
   ]
  },
  {
   "cell_type": "code",
   "execution_count": 21,
   "metadata": {},
   "outputs": [
    {
     "name": "stdout",
     "output_type": "stream",
     "text": [
      "The geograpical coordinate of Phuket are 7.9366015, 98.3529292.\n"
     ]
    }
   ],
   "source": [
    "address = 'Phuket, Thailand'\n",
    "\n",
    "geolocator = Nominatim(user_agent=\"toronto_explorer\")\n",
    "location = geolocator.geocode(address)\n",
    "latitude = location.latitude\n",
    "longitude = location.longitude\n",
    "print('The geograpical coordinate of Phuket are {}, {}.'.format(latitude, longitude))"
   ]
  },
  {
   "cell_type": "code",
   "execution_count": 22,
   "metadata": {},
   "outputs": [
    {
     "data": {
      "text/html": [
       "<div style=\"width:100%;\"><div style=\"position:relative;width:100%;height:0;padding-bottom:60%;\"><span style=\"color:#565656\">Make this Notebook Trusted to load map: File -> Trust Notebook</span><iframe src=\"about:blank\" style=\"position:absolute;width:100%;height:100%;left:0;top:0;border:none !important;\" data-html=%3C%21DOCTYPE%20html%3E%0A%3Chead%3E%20%20%20%20%0A%20%20%20%20%3Cmeta%20http-equiv%3D%22content-type%22%20content%3D%22text/html%3B%20charset%3DUTF-8%22%20/%3E%0A%20%20%20%20%3Cscript%3EL_PREFER_CANVAS%20%3D%20false%3B%20L_NO_TOUCH%20%3D%20false%3B%20L_DISABLE_3D%20%3D%20false%3B%3C/script%3E%0A%20%20%20%20%3Cscript%20src%3D%22https%3A//cdn.jsdelivr.net/npm/leaflet%401.2.0/dist/leaflet.js%22%3E%3C/script%3E%0A%20%20%20%20%3Cscript%20src%3D%22https%3A//ajax.googleapis.com/ajax/libs/jquery/1.11.1/jquery.min.js%22%3E%3C/script%3E%0A%20%20%20%20%3Cscript%20src%3D%22https%3A//maxcdn.bootstrapcdn.com/bootstrap/3.2.0/js/bootstrap.min.js%22%3E%3C/script%3E%0A%20%20%20%20%3Cscript%20src%3D%22https%3A//cdnjs.cloudflare.com/ajax/libs/Leaflet.awesome-markers/2.0.2/leaflet.awesome-markers.js%22%3E%3C/script%3E%0A%20%20%20%20%3Clink%20rel%3D%22stylesheet%22%20href%3D%22https%3A//cdn.jsdelivr.net/npm/leaflet%401.2.0/dist/leaflet.css%22/%3E%0A%20%20%20%20%3Clink%20rel%3D%22stylesheet%22%20href%3D%22https%3A//maxcdn.bootstrapcdn.com/bootstrap/3.2.0/css/bootstrap.min.css%22/%3E%0A%20%20%20%20%3Clink%20rel%3D%22stylesheet%22%20href%3D%22https%3A//maxcdn.bootstrapcdn.com/bootstrap/3.2.0/css/bootstrap-theme.min.css%22/%3E%0A%20%20%20%20%3Clink%20rel%3D%22stylesheet%22%20href%3D%22https%3A//maxcdn.bootstrapcdn.com/font-awesome/4.6.3/css/font-awesome.min.css%22/%3E%0A%20%20%20%20%3Clink%20rel%3D%22stylesheet%22%20href%3D%22https%3A//cdnjs.cloudflare.com/ajax/libs/Leaflet.awesome-markers/2.0.2/leaflet.awesome-markers.css%22/%3E%0A%20%20%20%20%3Clink%20rel%3D%22stylesheet%22%20href%3D%22https%3A//rawgit.com/python-visualization/folium/master/folium/templates/leaflet.awesome.rotate.css%22/%3E%0A%20%20%20%20%3Cstyle%3Ehtml%2C%20body%20%7Bwidth%3A%20100%25%3Bheight%3A%20100%25%3Bmargin%3A%200%3Bpadding%3A%200%3B%7D%3C/style%3E%0A%20%20%20%20%3Cstyle%3E%23map%20%7Bposition%3Aabsolute%3Btop%3A0%3Bbottom%3A0%3Bright%3A0%3Bleft%3A0%3B%7D%3C/style%3E%0A%20%20%20%20%0A%20%20%20%20%20%20%20%20%20%20%20%20%3Cstyle%3E%20%23map_79acaa850b1f455db45387d8d0bffe78%20%7B%0A%20%20%20%20%20%20%20%20%20%20%20%20%20%20%20%20position%20%3A%20relative%3B%0A%20%20%20%20%20%20%20%20%20%20%20%20%20%20%20%20width%20%3A%20100.0%25%3B%0A%20%20%20%20%20%20%20%20%20%20%20%20%20%20%20%20height%3A%20100.0%25%3B%0A%20%20%20%20%20%20%20%20%20%20%20%20%20%20%20%20left%3A%200.0%25%3B%0A%20%20%20%20%20%20%20%20%20%20%20%20%20%20%20%20top%3A%200.0%25%3B%0A%20%20%20%20%20%20%20%20%20%20%20%20%20%20%20%20%7D%0A%20%20%20%20%20%20%20%20%20%20%20%20%3C/style%3E%0A%20%20%20%20%20%20%20%20%0A%3C/head%3E%0A%3Cbody%3E%20%20%20%20%0A%20%20%20%20%0A%20%20%20%20%20%20%20%20%20%20%20%20%3Cdiv%20class%3D%22folium-map%22%20id%3D%22map_79acaa850b1f455db45387d8d0bffe78%22%20%3E%3C/div%3E%0A%20%20%20%20%20%20%20%20%0A%3C/body%3E%0A%3Cscript%3E%20%20%20%20%0A%20%20%20%20%0A%0A%20%20%20%20%20%20%20%20%20%20%20%20%0A%20%20%20%20%20%20%20%20%20%20%20%20%20%20%20%20var%20bounds%20%3D%20null%3B%0A%20%20%20%20%20%20%20%20%20%20%20%20%0A%0A%20%20%20%20%20%20%20%20%20%20%20%20var%20map_79acaa850b1f455db45387d8d0bffe78%20%3D%20L.map%28%0A%20%20%20%20%20%20%20%20%20%20%20%20%20%20%20%20%20%20%20%20%20%20%20%20%20%20%20%20%20%20%20%20%20%20%27map_79acaa850b1f455db45387d8d0bffe78%27%2C%0A%20%20%20%20%20%20%20%20%20%20%20%20%20%20%20%20%20%20%20%20%20%20%20%20%20%20%20%20%20%20%20%20%20%20%7Bcenter%3A%20%5B7.9366015%2C98.3529292%5D%2C%0A%20%20%20%20%20%20%20%20%20%20%20%20%20%20%20%20%20%20%20%20%20%20%20%20%20%20%20%20%20%20%20%20%20%20zoom%3A%203%2C%0A%20%20%20%20%20%20%20%20%20%20%20%20%20%20%20%20%20%20%20%20%20%20%20%20%20%20%20%20%20%20%20%20%20%20maxBounds%3A%20bounds%2C%0A%20%20%20%20%20%20%20%20%20%20%20%20%20%20%20%20%20%20%20%20%20%20%20%20%20%20%20%20%20%20%20%20%20%20layers%3A%20%5B%5D%2C%0A%20%20%20%20%20%20%20%20%20%20%20%20%20%20%20%20%20%20%20%20%20%20%20%20%20%20%20%20%20%20%20%20%20%20worldCopyJump%3A%20false%2C%0A%20%20%20%20%20%20%20%20%20%20%20%20%20%20%20%20%20%20%20%20%20%20%20%20%20%20%20%20%20%20%20%20%20%20crs%3A%20L.CRS.EPSG3857%0A%20%20%20%20%20%20%20%20%20%20%20%20%20%20%20%20%20%20%20%20%20%20%20%20%20%20%20%20%20%20%20%20%20%7D%29%3B%0A%20%20%20%20%20%20%20%20%20%20%20%20%0A%20%20%20%20%20%20%20%20%0A%20%20%20%20%0A%20%20%20%20%20%20%20%20%20%20%20%20var%20tile_layer_66610214f08f4afb96f8229ba0659c43%20%3D%20L.tileLayer%28%0A%20%20%20%20%20%20%20%20%20%20%20%20%20%20%20%20%27https%3A//%7Bs%7D.tile.openstreetmap.org/%7Bz%7D/%7Bx%7D/%7By%7D.png%27%2C%0A%20%20%20%20%20%20%20%20%20%20%20%20%20%20%20%20%7B%0A%20%20%22attribution%22%3A%20null%2C%0A%20%20%22detectRetina%22%3A%20false%2C%0A%20%20%22maxZoom%22%3A%2018%2C%0A%20%20%22minZoom%22%3A%201%2C%0A%20%20%22noWrap%22%3A%20false%2C%0A%20%20%22subdomains%22%3A%20%22abc%22%0A%7D%0A%20%20%20%20%20%20%20%20%20%20%20%20%20%20%20%20%29.addTo%28map_79acaa850b1f455db45387d8d0bffe78%29%3B%0A%20%20%20%20%20%20%20%20%0A%3C/script%3E onload=\"this.contentDocument.open();this.contentDocument.write(    decodeURIComponent(this.getAttribute('data-html')));this.contentDocument.close();\" allowfullscreen webkitallowfullscreen mozallowfullscreen></iframe></div></div>"
      ],
      "text/plain": [
       "<folium.folium.Map at 0x7f08a616a550>"
      ]
     },
     "execution_count": 22,
     "metadata": {},
     "output_type": "execute_result"
    }
   ],
   "source": [
    "# create map centered on Phuket using latitude and longitude values\n",
    "map_phuket = folium.Map(location=[latitude, longitude], zoom_start=3)\n",
    "    \n",
    "map_phuket"
   ]
  },
  {
   "cell_type": "code",
   "execution_count": 26,
   "metadata": {},
   "outputs": [],
   "source": [
    "def getNearbyVenues(names, latitudes, longitudes, radius=500):\n",
    "    \n",
    "    venues_list=[]\n",
    "    for name, lat, lng in zip(names, latitudes, longitudes):\n",
    "        print(name)\n",
    "            \n",
    "        # create the API request URL\n",
    "        url = 'https://api.foursquare.com/v2/venues/explore?&client_id={}&client_secret={}&v={}&ll={},{}&radius={}&limit={}'.format(\n",
    "            CLIENT_ID, \n",
    "            CLIENT_SECRET, \n",
    "            VERSION, \n",
    "            lat, \n",
    "            lng, \n",
    "            radius, \n",
    "            LIMIT)\n",
    "            \n",
    "        # make the GET request\n",
    "        results = requests.get(url).json()[\"response\"]['groups'][0]['items']\n",
    "        \n",
    "        # return only relevant information for each nearby venue\n",
    "        venues_list.append([(\n",
    "            name, \n",
    "            lat, \n",
    "            lng, \n",
    "            v['venue']['name'], \n",
    "            v['venue']['location']['lat'], \n",
    "            v['venue']['location']['lng'],  \n",
    "            v['venue']['categories'][0]['name']) for v in results])\n",
    "\n",
    "    nearby_venues = pd.DataFrame([item for venue_list in venues_list for item in venue_list])\n",
    "    nearby_venues.columns = ['Surf Spot', \n",
    "                      'Latitude', \n",
    "                      'Longitude', \n",
    "                      'Venue', \n",
    "                      'Venue Latitude', \n",
    "                      'Venue Longitude', \n",
    "                      'Venue Category']\n",
    "    \n",
    "    return(nearby_venues)"
   ]
  },
  {
   "cell_type": "code",
   "execution_count": 27,
   "metadata": {},
   "outputs": [
    {
     "name": "stdout",
     "output_type": "stream",
     "text": [
      " Eisbach, Munich\n",
      " Baja Malibu, Baja Norte, Mexico\n",
      " Fulong Beach, Taiwan\n",
      " Surin Beach, Phuket, Thailand\n",
      " Arugam Bay, Sri Lanka\n",
      "Surfer's Point, Barbados\n",
      " The Bubble, Fuerteventura, Canary Islands\n",
      "Black's Beach, San Diego, California\n",
      " Cape Hatteras Lighthouse, Buxton, North Carolina\n",
      " Surf pool, United Arab Emirates\n",
      " Biarritz, France\n",
      " Ponta Preta, Maio, Cape Verde\n",
      " Tofino, Vancouver Island, Canada\n",
      " Byron Bay, New South Wales, Australia\n",
      " Les Cavaliers, Anglet, France\n",
      " Killer Point, Taghazoute, Morocco\n",
      " Pedra Branca Ericeira, Portugal\n",
      " Sao Francisco do Sul, Brazil\n",
      " Coconuts, Samoa\n",
      " Carrapateira, Portugal\n",
      " Hanalei Bay, Hawaii\n",
      " Rincon, Puerto Rico\n",
      " Bundoran Beach, County Donegal, Ireland\n",
      " Tamarindo Beach, Tamarindo, Costa Rica\n",
      " Pasta Point, Maldives\n",
      " Backdoor, Oahu, Hawaii\n",
      " Watergate Bay, Cornwall, England\n",
      " Cloudbreak, Tavarua Island, Fiji\n",
      " Superbank, Gold Coast, Australia\n",
      " Surfrider Beach, Malibu, California\n",
      " The Box, Margaret River Valley, Australia\n",
      " Jaws, Maui, Hawaii\n",
      " Riyuewan, Sanya, Hainan Island, China\n",
      " Manu Bay, Raglan, New Zealand\n",
      " Nihiwatu, Sumba, Indonesia\n"
     ]
    },
    {
     "ename": "KeyError",
     "evalue": "'groups'",
     "output_type": "error",
     "traceback": [
      "\u001b[0;31m---------------------------------------------------------------------------\u001b[0m",
      "\u001b[0;31mKeyError\u001b[0m                                  Traceback (most recent call last)",
      "\u001b[0;32m<ipython-input-27-59c3df330e49>\u001b[0m in \u001b[0;36m<module>\u001b[0;34m\u001b[0m\n\u001b[1;32m      1\u001b[0m spot_venues = getNearbyVenues(names=df2['Surf Spot'],\n\u001b[1;32m      2\u001b[0m                                    \u001b[0mlatitudes\u001b[0m\u001b[0;34m=\u001b[0m\u001b[0mdf2\u001b[0m\u001b[0;34m[\u001b[0m\u001b[0;34m'Latitude'\u001b[0m\u001b[0;34m]\u001b[0m\u001b[0;34m,\u001b[0m\u001b[0;34m\u001b[0m\u001b[0;34m\u001b[0m\u001b[0m\n\u001b[0;32m----> 3\u001b[0;31m                                    \u001b[0mlongitudes\u001b[0m\u001b[0;34m=\u001b[0m\u001b[0mdf2\u001b[0m\u001b[0;34m[\u001b[0m\u001b[0;34m'Longitude'\u001b[0m\u001b[0;34m]\u001b[0m\u001b[0;34m\u001b[0m\u001b[0;34m\u001b[0m\u001b[0m\n\u001b[0m\u001b[1;32m      4\u001b[0m                                   )\n",
      "\u001b[0;32m<ipython-input-26-aaa6a1c6073a>\u001b[0m in \u001b[0;36mgetNearbyVenues\u001b[0;34m(names, latitudes, longitudes, radius)\u001b[0m\n\u001b[1;32m     16\u001b[0m \u001b[0;34m\u001b[0m\u001b[0m\n\u001b[1;32m     17\u001b[0m         \u001b[0;31m# make the GET request\u001b[0m\u001b[0;34m\u001b[0m\u001b[0;34m\u001b[0m\u001b[0;34m\u001b[0m\u001b[0m\n\u001b[0;32m---> 18\u001b[0;31m         \u001b[0mresults\u001b[0m \u001b[0;34m=\u001b[0m \u001b[0mrequests\u001b[0m\u001b[0;34m.\u001b[0m\u001b[0mget\u001b[0m\u001b[0;34m(\u001b[0m\u001b[0murl\u001b[0m\u001b[0;34m)\u001b[0m\u001b[0;34m.\u001b[0m\u001b[0mjson\u001b[0m\u001b[0;34m(\u001b[0m\u001b[0;34m)\u001b[0m\u001b[0;34m[\u001b[0m\u001b[0;34m\"response\"\u001b[0m\u001b[0;34m]\u001b[0m\u001b[0;34m[\u001b[0m\u001b[0;34m'groups'\u001b[0m\u001b[0;34m]\u001b[0m\u001b[0;34m[\u001b[0m\u001b[0;36m0\u001b[0m\u001b[0;34m]\u001b[0m\u001b[0;34m[\u001b[0m\u001b[0;34m'items'\u001b[0m\u001b[0;34m]\u001b[0m\u001b[0;34m\u001b[0m\u001b[0;34m\u001b[0m\u001b[0m\n\u001b[0m\u001b[1;32m     19\u001b[0m \u001b[0;34m\u001b[0m\u001b[0m\n\u001b[1;32m     20\u001b[0m         \u001b[0;31m# return only relevant information for each nearby venue\u001b[0m\u001b[0;34m\u001b[0m\u001b[0;34m\u001b[0m\u001b[0;34m\u001b[0m\u001b[0m\n",
      "\u001b[0;31mKeyError\u001b[0m: 'groups'"
     ]
    }
   ],
   "source": [
    "           \n",
    "spot_venues = getNearbyVenues(names=df2['Surf Spot'],\n",
    "                                   latitudes=df2['Latitude'],\n",
    "                                   longitudes=df2['Longitude']\n",
    "                                  )"
   ]
  },
  {
   "cell_type": "code",
   "execution_count": null,
   "metadata": {},
   "outputs": [],
   "source": []
  },
  {
   "cell_type": "code",
   "execution_count": null,
   "metadata": {},
   "outputs": [],
   "source": []
  }
 ],
 "metadata": {
  "kernelspec": {
   "display_name": "Python 3.7",
   "language": "python",
   "name": "python3"
  },
  "language_info": {
   "codemirror_mode": {
    "name": "ipython",
    "version": 3
   },
   "file_extension": ".py",
   "mimetype": "text/x-python",
   "name": "python",
   "nbconvert_exporter": "python",
   "pygments_lexer": "ipython3",
   "version": "3.7.10"
  }
 },
 "nbformat": 4,
 "nbformat_minor": 1
}
